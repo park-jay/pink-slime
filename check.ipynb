{
 "cells": [
  {
   "cell_type": "code",
   "execution_count": 2,
   "metadata": {},
   "outputs": [],
   "source": [
    "import pandas as pd"
   ]
  },
  {
   "cell_type": "code",
   "execution_count": null,
   "metadata": {},
   "outputs": [],
   "source": [
    "#https://www.cjr.org/tow_center_reports/hundreds-of-pink-slime-local-news-outlets-are-distributing-algorithmic-stories-conservative-talking-points.php\n",
    "#https://www.cjr.org/analysis/as-election-looms-a-network-of-mysterious-pink-slime-local-news-outlets-nearly-triples-in-size.php\n"
   ]
  },
  {
   "cell_type": "code",
   "execution_count": 4,
   "metadata": {},
   "outputs": [],
   "source": [
    "data=pd.read_csv('/Volumes/T7/WKWSCI-dataset/nela_ps_newsdata.csv')\n",
    "#takes one minute to load\n",
    "#takes 35GB of RAM"
   ]
  },
  {
   "cell_type": "code",
   "execution_count": 5,
   "metadata": {},
   "outputs": [
    {
     "data": {
      "text/plain": [
       "(7910965, 13)"
      ]
     },
     "execution_count": 5,
     "metadata": {},
     "output_type": "execute_result"
    }
   ],
   "source": [
    "data.shape"
   ]
  },
  {
   "cell_type": "code",
   "execution_count": 8,
   "metadata": {},
   "outputs": [
    {
     "data": {
      "text/plain": [
       "(15959, 13)"
      ]
     },
     "execution_count": 8,
     "metadata": {},
     "output_type": "execute_result"
    }
   ],
   "source": [
    "data[data['content'].str.contains('voter', na=False, case=False)].shape"
   ]
  },
  {
   "cell_type": "code",
   "execution_count": 10,
   "metadata": {},
   "outputs": [
    {
     "data": {
      "text/plain": [
       "(1142222, 13)"
      ]
     },
     "execution_count": 10,
     "metadata": {},
     "output_type": "execute_result"
    }
   ],
   "source": [
    "data[data['content'].str.contains('election', na=False, case=False)].shape"
   ]
  },
  {
   "cell_type": "code",
   "execution_count": 11,
   "metadata": {},
   "outputs": [],
   "source": [
    "election=data[data['content'].str.contains('election', na=False, case=False)]"
   ]
  },
  {
   "cell_type": "code",
   "execution_count": 16,
   "metadata": {},
   "outputs": [],
   "source": [
    "capitol=data[data['content'].str.contains('capitol', na=False, case=False)]"
   ]
  },
  {
   "cell_type": "code",
   "execution_count": 17,
   "metadata": {},
   "outputs": [
    {
     "data": {
      "text/plain": [
       "(11494, 13)"
      ]
     },
     "execution_count": 17,
     "metadata": {},
     "output_type": "execute_result"
    }
   ],
   "source": [
    "capitol.shape"
   ]
  },
  {
   "cell_type": "code",
   "execution_count": 24,
   "metadata": {},
   "outputs": [
    {
     "data": {
      "text/html": [
       "<div>\n",
       "<style scoped>\n",
       "    .dataframe tbody tr th:only-of-type {\n",
       "        vertical-align: middle;\n",
       "    }\n",
       "\n",
       "    .dataframe tbody tr th {\n",
       "        vertical-align: top;\n",
       "    }\n",
       "\n",
       "    .dataframe thead th {\n",
       "        text-align: right;\n",
       "    }\n",
       "</style>\n",
       "<table border=\"1\" class=\"dataframe\">\n",
       "  <thead>\n",
       "    <tr style=\"text-align: right;\">\n",
       "      <th></th>\n",
       "      <th>id</th>\n",
       "      <th>date</th>\n",
       "      <th>source</th>\n",
       "      <th>title</th>\n",
       "      <th>content</th>\n",
       "      <th>author</th>\n",
       "      <th>url</th>\n",
       "      <th>published</th>\n",
       "      <th>published_utc</th>\n",
       "      <th>collection_utc</th>\n",
       "      <th>network</th>\n",
       "      <th>location</th>\n",
       "      <th>ip2024</th>\n",
       "    </tr>\n",
       "  </thead>\n",
       "  <tbody>\n",
       "    <tr>\n",
       "      <th>2745</th>\n",
       "      <td>centennialstatenews--2021-03-25--Republicans s...</td>\n",
       "      <td>2021-03-25</td>\n",
       "      <td>centennialstatenews</td>\n",
       "      <td>Republicans split on return of earmarks, Big T...</td>\n",
       "      <td>Republican leaders are in disagreement regardi...</td>\n",
       "      <td>Timothy Stuckey</td>\n",
       "      <td>https://centennialstatenews.com/stories/580881...</td>\n",
       "      <td>Thu, 25 Mar 2021 13:33:24 -0500</td>\n",
       "      <td>1616693604</td>\n",
       "      <td>1620740075</td>\n",
       "      <td>Metric Media</td>\n",
       "      <td>Colorado</td>\n",
       "      <td>IP_Address_24</td>\n",
       "    </tr>\n",
       "    <tr>\n",
       "      <th>4264</th>\n",
       "      <td>sunshinesentinel--2021-03-25--Republican lawma...</td>\n",
       "      <td>2021-03-25</td>\n",
       "      <td>sunshinesentinel</td>\n",
       "      <td>Republican lawmakers divided over support for ...</td>\n",
       "      <td>Republican lawmakers have conflicting concerns...</td>\n",
       "      <td>Timothy Stuckey</td>\n",
       "      <td>https://sunshinesentinel.com/stories/580881770...</td>\n",
       "      <td>Thu, 25 Mar 2021 13:30:57 -0500</td>\n",
       "      <td>1616693457</td>\n",
       "      <td>1620740698</td>\n",
       "      <td>Metric Media</td>\n",
       "      <td>Florida</td>\n",
       "      <td>IP_Address_17</td>\n",
       "    </tr>\n",
       "    <tr>\n",
       "      <th>4731</th>\n",
       "      <td>peachtreetimes--2021-03-25--GOP lawmakers spli...</td>\n",
       "      <td>2021-03-25</td>\n",
       "      <td>peachtreetimes</td>\n",
       "      <td>GOP lawmakers split over support of earmarks, ...</td>\n",
       "      <td>Republican lawmakers are divided concerning th...</td>\n",
       "      <td>Timothy Stuckey</td>\n",
       "      <td>https://peachtreetimes.com/stories/580881769-g...</td>\n",
       "      <td>Thu, 25 Mar 2021 13:25:09 -0500</td>\n",
       "      <td>1616693109</td>\n",
       "      <td>1620740842</td>\n",
       "      <td>Metric Media</td>\n",
       "      <td>Georgia</td>\n",
       "      <td>IP_Address_24</td>\n",
       "    </tr>\n",
       "    <tr>\n",
       "      <th>7311</th>\n",
       "      <td>sunflowerstatenews--2021-03-01--Trump endorses...</td>\n",
       "      <td>2021-03-01</td>\n",
       "      <td>sunflowerstatenews</td>\n",
       "      <td>Trump endorses Moran for re-election</td>\n",
       "      <td>Donald Trump endorsed Republican Sen. Jerry Mo...</td>\n",
       "      <td>Sunflower State News reports</td>\n",
       "      <td>https://sunflowerstatenews.com/stories/5749004...</td>\n",
       "      <td>Mon, 01 Mar 2021 13:13:36 -0600</td>\n",
       "      <td>1614622416</td>\n",
       "      <td>1620742153</td>\n",
       "      <td>Metric Media</td>\n",
       "      <td>Kansas</td>\n",
       "      <td>IP_Address_24</td>\n",
       "    </tr>\n",
       "    <tr>\n",
       "      <th>79475</th>\n",
       "      <td>legalnewsline--2021-05-14--Twitter loses lawsu...</td>\n",
       "      <td>2021-05-14</td>\n",
       "      <td>legalnewsline</td>\n",
       "      <td>Twitter loses lawsuit after Texas AG makes inq...</td>\n",
       "      <td>SAN FRANCISCO (Legal Newsline) – Twitter was t...</td>\n",
       "      <td>John O'Brien</td>\n",
       "      <td>https://legalnewsline.com/stories/596323142-tw...</td>\n",
       "      <td>Fri, 14 May 2021 01:49:24 -0500</td>\n",
       "      <td>1620971364</td>\n",
       "      <td>1621002143</td>\n",
       "      <td>Record</td>\n",
       "      <td>US</td>\n",
       "      <td>IP_Address_10</td>\n",
       "    </tr>\n",
       "    <tr>\n",
       "      <th>...</th>\n",
       "      <td>...</td>\n",
       "      <td>...</td>\n",
       "      <td>...</td>\n",
       "      <td>...</td>\n",
       "      <td>...</td>\n",
       "      <td>...</td>\n",
       "      <td>...</td>\n",
       "      <td>...</td>\n",
       "      <td>...</td>\n",
       "      <td>...</td>\n",
       "      <td>...</td>\n",
       "      <td>...</td>\n",
       "      <td>...</td>\n",
       "    </tr>\n",
       "    <tr>\n",
       "      <th>7910088</th>\n",
       "      <td>ecohionews--2024-01-03--There are 27 professio...</td>\n",
       "      <td>2024-01-03</td>\n",
       "      <td>ecohionews</td>\n",
       "      <td>There are 27 professional licenses that will l...</td>\n",
       "      <td>There are 27 professional licenses expiring in...</td>\n",
       "      <td>EC Ohio News</td>\n",
       "      <td>https://ecohionews.com/stories/653410008-there...</td>\n",
       "      <td>Wed, 03 Jan 2024 14:55:26 -0600</td>\n",
       "      <td>1704311726</td>\n",
       "      <td>1704339128</td>\n",
       "      <td>Metric Media</td>\n",
       "      <td>Ohio</td>\n",
       "      <td>IP_Address_24</td>\n",
       "    </tr>\n",
       "    <tr>\n",
       "      <th>7910118</th>\n",
       "      <td>findlaytimes--2023-12-30--Hancock County has 1...</td>\n",
       "      <td>2023-12-30</td>\n",
       "      <td>findlaytimes</td>\n",
       "      <td>Hancock County has 171 professional licenses e...</td>\n",
       "      <td>There are 171 professional licenses expiring i...</td>\n",
       "      <td>Findlay Times</td>\n",
       "      <td>https://findlaytimes.com/stories/653409948-han...</td>\n",
       "      <td>Sat, 30 Dec 2023 03:57:14 -0600</td>\n",
       "      <td>1703926634</td>\n",
       "      <td>1704340166</td>\n",
       "      <td>Metric Media</td>\n",
       "      <td>Ohio</td>\n",
       "      <td>IP_Address_24</td>\n",
       "    </tr>\n",
       "    <tr>\n",
       "      <th>7910641</th>\n",
       "      <td>seohiotimes--2024-01-03--There are 18 professi...</td>\n",
       "      <td>2024-01-03</td>\n",
       "      <td>seohiotimes</td>\n",
       "      <td>There are 18 professional licenses that will l...</td>\n",
       "      <td>There are 18 professional licenses expiring in...</td>\n",
       "      <td>SE Ohio Times</td>\n",
       "      <td>https://seohiotimes.com/stories/653410010-ther...</td>\n",
       "      <td>Wed, 03 Jan 2024 12:51:47 -0600</td>\n",
       "      <td>1704304307</td>\n",
       "      <td>1704369071</td>\n",
       "      <td>Metric Media</td>\n",
       "      <td>Ohio</td>\n",
       "      <td>IP_Address_24</td>\n",
       "    </tr>\n",
       "    <tr>\n",
       "      <th>7910737</th>\n",
       "      <td>southohionews--2024-01-03--There are 105 profe...</td>\n",
       "      <td>2024-01-03</td>\n",
       "      <td>southohionews</td>\n",
       "      <td>There are 105 professional licenses that will ...</td>\n",
       "      <td>There are 105 professional licenses expiring i...</td>\n",
       "      <td>South Ohio News</td>\n",
       "      <td>https://southohionews.com/stories/653410012-th...</td>\n",
       "      <td>Wed, 03 Jan 2024 11:03:40 -0600</td>\n",
       "      <td>1704297820</td>\n",
       "      <td>1704373679</td>\n",
       "      <td>Metric Media</td>\n",
       "      <td>Ohio</td>\n",
       "      <td>IP_Address_17</td>\n",
       "    </tr>\n",
       "    <tr>\n",
       "      <th>7910962</th>\n",
       "      <td>yavapainews--2023-12-27--Community Invited to ...</td>\n",
       "      <td>2023-12-27</td>\n",
       "      <td>yavapainews</td>\n",
       "      <td>Community Invited to Attend Event on Draft Com...</td>\n",
       "      <td>SEDONA, Ariz.– The city of Sedona is calling o...</td>\n",
       "      <td>Yavapai News</td>\n",
       "      <td>https://yavapainews.com/stories/653484003-comm...</td>\n",
       "      <td>Wed, 27 Dec 2023 07:24:55 -0600</td>\n",
       "      <td>1703679895</td>\n",
       "      <td>1704381617</td>\n",
       "      <td>Metric Media</td>\n",
       "      <td>Arizona</td>\n",
       "      <td>IP_Address_17</td>\n",
       "    </tr>\n",
       "  </tbody>\n",
       "</table>\n",
       "<p>9732 rows × 13 columns</p>\n",
       "</div>"
      ],
      "text/plain": [
       "                                                        id        date  \\\n",
       "2745     centennialstatenews--2021-03-25--Republicans s...  2021-03-25   \n",
       "4264     sunshinesentinel--2021-03-25--Republican lawma...  2021-03-25   \n",
       "4731     peachtreetimes--2021-03-25--GOP lawmakers spli...  2021-03-25   \n",
       "7311     sunflowerstatenews--2021-03-01--Trump endorses...  2021-03-01   \n",
       "79475    legalnewsline--2021-05-14--Twitter loses lawsu...  2021-05-14   \n",
       "...                                                    ...         ...   \n",
       "7910088  ecohionews--2024-01-03--There are 27 professio...  2024-01-03   \n",
       "7910118  findlaytimes--2023-12-30--Hancock County has 1...  2023-12-30   \n",
       "7910641  seohiotimes--2024-01-03--There are 18 professi...  2024-01-03   \n",
       "7910737  southohionews--2024-01-03--There are 105 profe...  2024-01-03   \n",
       "7910962  yavapainews--2023-12-27--Community Invited to ...  2023-12-27   \n",
       "\n",
       "                      source  \\\n",
       "2745     centennialstatenews   \n",
       "4264        sunshinesentinel   \n",
       "4731          peachtreetimes   \n",
       "7311      sunflowerstatenews   \n",
       "79475          legalnewsline   \n",
       "...                      ...   \n",
       "7910088           ecohionews   \n",
       "7910118         findlaytimes   \n",
       "7910641          seohiotimes   \n",
       "7910737        southohionews   \n",
       "7910962          yavapainews   \n",
       "\n",
       "                                                     title  \\\n",
       "2745     Republicans split on return of earmarks, Big T...   \n",
       "4264     Republican lawmakers divided over support for ...   \n",
       "4731     GOP lawmakers split over support of earmarks, ...   \n",
       "7311                  Trump endorses Moran for re-election   \n",
       "79475    Twitter loses lawsuit after Texas AG makes inq...   \n",
       "...                                                    ...   \n",
       "7910088  There are 27 professional licenses that will l...   \n",
       "7910118  Hancock County has 171 professional licenses e...   \n",
       "7910641  There are 18 professional licenses that will l...   \n",
       "7910737  There are 105 professional licenses that will ...   \n",
       "7910962  Community Invited to Attend Event on Draft Com...   \n",
       "\n",
       "                                                   content  \\\n",
       "2745     Republican leaders are in disagreement regardi...   \n",
       "4264     Republican lawmakers have conflicting concerns...   \n",
       "4731     Republican lawmakers are divided concerning th...   \n",
       "7311     Donald Trump endorsed Republican Sen. Jerry Mo...   \n",
       "79475    SAN FRANCISCO (Legal Newsline) – Twitter was t...   \n",
       "...                                                    ...   \n",
       "7910088  There are 27 professional licenses expiring in...   \n",
       "7910118  There are 171 professional licenses expiring i...   \n",
       "7910641  There are 18 professional licenses expiring in...   \n",
       "7910737  There are 105 professional licenses expiring i...   \n",
       "7910962  SEDONA, Ariz.– The city of Sedona is calling o...   \n",
       "\n",
       "                               author  \\\n",
       "2745                  Timothy Stuckey   \n",
       "4264                  Timothy Stuckey   \n",
       "4731                  Timothy Stuckey   \n",
       "7311     Sunflower State News reports   \n",
       "79475                    John O'Brien   \n",
       "...                               ...   \n",
       "7910088                  EC Ohio News   \n",
       "7910118                 Findlay Times   \n",
       "7910641                 SE Ohio Times   \n",
       "7910737               South Ohio News   \n",
       "7910962                  Yavapai News   \n",
       "\n",
       "                                                       url  \\\n",
       "2745     https://centennialstatenews.com/stories/580881...   \n",
       "4264     https://sunshinesentinel.com/stories/580881770...   \n",
       "4731     https://peachtreetimes.com/stories/580881769-g...   \n",
       "7311     https://sunflowerstatenews.com/stories/5749004...   \n",
       "79475    https://legalnewsline.com/stories/596323142-tw...   \n",
       "...                                                    ...   \n",
       "7910088  https://ecohionews.com/stories/653410008-there...   \n",
       "7910118  https://findlaytimes.com/stories/653409948-han...   \n",
       "7910641  https://seohiotimes.com/stories/653410010-ther...   \n",
       "7910737  https://southohionews.com/stories/653410012-th...   \n",
       "7910962  https://yavapainews.com/stories/653484003-comm...   \n",
       "\n",
       "                               published  published_utc  collection_utc  \\\n",
       "2745     Thu, 25 Mar 2021 13:33:24 -0500     1616693604      1620740075   \n",
       "4264     Thu, 25 Mar 2021 13:30:57 -0500     1616693457      1620740698   \n",
       "4731     Thu, 25 Mar 2021 13:25:09 -0500     1616693109      1620740842   \n",
       "7311     Mon, 01 Mar 2021 13:13:36 -0600     1614622416      1620742153   \n",
       "79475    Fri, 14 May 2021 01:49:24 -0500     1620971364      1621002143   \n",
       "...                                  ...            ...             ...   \n",
       "7910088  Wed, 03 Jan 2024 14:55:26 -0600     1704311726      1704339128   \n",
       "7910118  Sat, 30 Dec 2023 03:57:14 -0600     1703926634      1704340166   \n",
       "7910641  Wed, 03 Jan 2024 12:51:47 -0600     1704304307      1704369071   \n",
       "7910737  Wed, 03 Jan 2024 11:03:40 -0600     1704297820      1704373679   \n",
       "7910962  Wed, 27 Dec 2023 07:24:55 -0600     1703679895      1704381617   \n",
       "\n",
       "              network  location         ip2024  \n",
       "2745     Metric Media  Colorado  IP_Address_24  \n",
       "4264     Metric Media   Florida  IP_Address_17  \n",
       "4731     Metric Media   Georgia  IP_Address_24  \n",
       "7311     Metric Media    Kansas  IP_Address_24  \n",
       "79475          Record        US  IP_Address_10  \n",
       "...               ...       ...            ...  \n",
       "7910088  Metric Media      Ohio  IP_Address_24  \n",
       "7910118  Metric Media      Ohio  IP_Address_24  \n",
       "7910641  Metric Media      Ohio  IP_Address_24  \n",
       "7910737  Metric Media      Ohio  IP_Address_17  \n",
       "7910962  Metric Media   Arizona  IP_Address_17  \n",
       "\n",
       "[9732 rows x 13 columns]"
      ]
     },
     "execution_count": 24,
     "metadata": {},
     "output_type": "execute_result"
    }
   ],
   "source": [
    "data[data['content'].str.contains('jan. 6', na=False, case=False)]"
   ]
  },
  {
   "cell_type": "code",
   "execution_count": 27,
   "metadata": {},
   "outputs": [
    {
     "data": {
      "text/plain": [
       "'\"Today marks 53 years since the #Stonewall Riots took place, launching the modern LGBTQIA+ rights movement.Im proud to be an ally & member of the @LGBTQEqCaucus as we continue to fight for equal rights for everyone.\"Read on Twitter\\n\\nHere are other recent tweets from Juan Vargas:\\n\\nRead on Twitter \"This preventable tragedy is horrifying and heartbreaking. We are long overdue for fixing our broken immigration system & restoring humanity to our immigration process. The time is now to address these issues & prevent further tragedies from taking place. twitter.com/joaquincastrot\\n\\n\"Trump and his inner circle knew that insurrectionists would bring weapons to the Capitol. They knew #January6th would be violent.Trump must now be held accountable for his attempt to overthrow our democracy.\" Read on Twitter\\n\\nRead on Twitter \"On June 15th, we marked 10 years of #DACA, which brought thousands of undocumented immigrants out of the shadows.However, we still need to create a pathway to citizenship for every immigrant who calls this country home. The moment is now. #HereToStay twitter.com/HouseDPCC/stat'"
      ]
     },
     "execution_count": 27,
     "metadata": {},
     "output_type": "execute_result"
    }
   ],
   "source": [
    "capitol.iloc[4731]['content']"
   ]
  },
  {
   "cell_type": "code",
   "execution_count": 28,
   "metadata": {},
   "outputs": [
    {
     "data": {
      "text/plain": [
       "'https://imperialcanews.com/stories/627986692-california-u-s-rep-juan-vargas-today-marks-53-years-since-the-stonewall-riots-took-place-launching-the-modern-lgbtqia-rights-movement'"
      ]
     },
     "execution_count": 28,
     "metadata": {},
     "output_type": "execute_result"
    }
   ],
   "source": [
    "capitol.iloc[4731]['url']"
   ]
  },
  {
   "cell_type": "code",
   "execution_count": 29,
   "metadata": {},
   "outputs": [
    {
     "data": {
      "text/plain": [
       "'imperialcanews'"
      ]
     },
     "execution_count": 29,
     "metadata": {},
     "output_type": "execute_result"
    }
   ],
   "source": [
    "capitol.iloc[4731]['source']"
   ]
  },
  {
   "cell_type": "code",
   "execution_count": 20,
   "metadata": {},
   "outputs": [
    {
     "data": {
      "text/html": [
       "<div>\n",
       "<style scoped>\n",
       "    .dataframe tbody tr th:only-of-type {\n",
       "        vertical-align: middle;\n",
       "    }\n",
       "\n",
       "    .dataframe tbody tr th {\n",
       "        vertical-align: top;\n",
       "    }\n",
       "\n",
       "    .dataframe thead th {\n",
       "        text-align: right;\n",
       "    }\n",
       "</style>\n",
       "<table border=\"1\" class=\"dataframe\">\n",
       "  <thead>\n",
       "    <tr style=\"text-align: right;\">\n",
       "      <th></th>\n",
       "      <th>id</th>\n",
       "      <th>date</th>\n",
       "      <th>source</th>\n",
       "      <th>title</th>\n",
       "      <th>content</th>\n",
       "      <th>author</th>\n",
       "      <th>url</th>\n",
       "      <th>published</th>\n",
       "      <th>published_utc</th>\n",
       "      <th>collection_utc</th>\n",
       "      <th>network</th>\n",
       "      <th>location</th>\n",
       "      <th>ip2024</th>\n",
       "    </tr>\n",
       "  </thead>\n",
       "  <tbody>\n",
       "    <tr>\n",
       "      <th>2120</th>\n",
       "      <td>santacruzstandard--2021-05-10--Stations with t...</td>\n",
       "      <td>2021-05-10</td>\n",
       "      <td>santacruzstandard</td>\n",
       "      <td>Stations with the cheapest midgrade gas in San...</td>\n",
       "      <td>The Great Gas at 705 Capitola Road is selling ...</td>\n",
       "      <td>Santa Cruz Standard</td>\n",
       "      <td>https://santacruzstandard.com/stories/59446826...</td>\n",
       "      <td>Mon, 10 May 2021 08:26:51 -0500</td>\n",
       "      <td>1620649611</td>\n",
       "      <td>1620739783</td>\n",
       "      <td>Metric Media</td>\n",
       "      <td>California</td>\n",
       "      <td>IP_Address_17</td>\n",
       "    </tr>\n",
       "    <tr>\n",
       "      <th>2745</th>\n",
       "      <td>centennialstatenews--2021-03-25--Republicans s...</td>\n",
       "      <td>2021-03-25</td>\n",
       "      <td>centennialstatenews</td>\n",
       "      <td>Republicans split on return of earmarks, Big T...</td>\n",
       "      <td>Republican leaders are in disagreement regardi...</td>\n",
       "      <td>Timothy Stuckey</td>\n",
       "      <td>https://centennialstatenews.com/stories/580881...</td>\n",
       "      <td>Thu, 25 Mar 2021 13:33:24 -0500</td>\n",
       "      <td>1616693604</td>\n",
       "      <td>1620740075</td>\n",
       "      <td>Metric Media</td>\n",
       "      <td>Colorado</td>\n",
       "      <td>IP_Address_24</td>\n",
       "    </tr>\n",
       "    <tr>\n",
       "      <th>4260</th>\n",
       "      <td>sunshinesentinel--2021-04-02--Florida Senate b...</td>\n",
       "      <td>2021-04-02</td>\n",
       "      <td>sunshinesentinel</td>\n",
       "      <td>Florida Senate bill aims to save on prescripti...</td>\n",
       "      <td>Florida Senate Bill 1306, introduced by Sen. A...</td>\n",
       "      <td>Alyssa Marie Dasal</td>\n",
       "      <td>https://sunshinesentinel.com/stories/584469523...</td>\n",
       "      <td>Fri, 02 Apr 2021 04:19:53 -0500</td>\n",
       "      <td>1617351593</td>\n",
       "      <td>1620740697</td>\n",
       "      <td>Metric Media</td>\n",
       "      <td>Florida</td>\n",
       "      <td>IP_Address_17</td>\n",
       "    </tr>\n",
       "    <tr>\n",
       "      <th>4264</th>\n",
       "      <td>sunshinesentinel--2021-03-25--Republican lawma...</td>\n",
       "      <td>2021-03-25</td>\n",
       "      <td>sunshinesentinel</td>\n",
       "      <td>Republican lawmakers divided over support for ...</td>\n",
       "      <td>Republican lawmakers have conflicting concerns...</td>\n",
       "      <td>Timothy Stuckey</td>\n",
       "      <td>https://sunshinesentinel.com/stories/580881770...</td>\n",
       "      <td>Thu, 25 Mar 2021 13:30:57 -0500</td>\n",
       "      <td>1616693457</td>\n",
       "      <td>1620740698</td>\n",
       "      <td>Metric Media</td>\n",
       "      <td>Florida</td>\n",
       "      <td>IP_Address_17</td>\n",
       "    </tr>\n",
       "  </tbody>\n",
       "</table>\n",
       "</div>"
      ],
      "text/plain": [
       "                                                     id        date  \\\n",
       "2120  santacruzstandard--2021-05-10--Stations with t...  2021-05-10   \n",
       "2745  centennialstatenews--2021-03-25--Republicans s...  2021-03-25   \n",
       "4260  sunshinesentinel--2021-04-02--Florida Senate b...  2021-04-02   \n",
       "4264  sunshinesentinel--2021-03-25--Republican lawma...  2021-03-25   \n",
       "\n",
       "                   source                                              title  \\\n",
       "2120    santacruzstandard  Stations with the cheapest midgrade gas in San...   \n",
       "2745  centennialstatenews  Republicans split on return of earmarks, Big T...   \n",
       "4260     sunshinesentinel  Florida Senate bill aims to save on prescripti...   \n",
       "4264     sunshinesentinel  Republican lawmakers divided over support for ...   \n",
       "\n",
       "                                                content               author  \\\n",
       "2120  The Great Gas at 705 Capitola Road is selling ...  Santa Cruz Standard   \n",
       "2745  Republican leaders are in disagreement regardi...      Timothy Stuckey   \n",
       "4260  Florida Senate Bill 1306, introduced by Sen. A...   Alyssa Marie Dasal   \n",
       "4264  Republican lawmakers have conflicting concerns...      Timothy Stuckey   \n",
       "\n",
       "                                                    url  \\\n",
       "2120  https://santacruzstandard.com/stories/59446826...   \n",
       "2745  https://centennialstatenews.com/stories/580881...   \n",
       "4260  https://sunshinesentinel.com/stories/584469523...   \n",
       "4264  https://sunshinesentinel.com/stories/580881770...   \n",
       "\n",
       "                            published  published_utc  collection_utc  \\\n",
       "2120  Mon, 10 May 2021 08:26:51 -0500     1620649611      1620739783   \n",
       "2745  Thu, 25 Mar 2021 13:33:24 -0500     1616693604      1620740075   \n",
       "4260  Fri, 02 Apr 2021 04:19:53 -0500     1617351593      1620740697   \n",
       "4264  Thu, 25 Mar 2021 13:30:57 -0500     1616693457      1620740698   \n",
       "\n",
       "           network    location         ip2024  \n",
       "2120  Metric Media  California  IP_Address_17  \n",
       "2745  Metric Media    Colorado  IP_Address_24  \n",
       "4260  Metric Media     Florida  IP_Address_17  \n",
       "4264  Metric Media     Florida  IP_Address_17  "
      ]
     },
     "execution_count": 20,
     "metadata": {},
     "output_type": "execute_result"
    }
   ],
   "source": [
    "capitol.head(4)"
   ]
  },
  {
   "cell_type": "code",
   "execution_count": 22,
   "metadata": {},
   "outputs": [
    {
     "data": {
      "text/plain": [
       "'\"Thank you @USArmy for dropping off cupcakes to our office to celebrate your 247th birthday! Thank you for all you do in defense of our country. Heres to many more! #Army247\"Read on Twitter\\n\\nHere are other recent tweets from Norma Torres:\\n\\n\"It was a pleasure to welcome Yusuf from the Dawoodi Muslim community to Capitol Hill and hear directly from him on legislative priorities for the community. Thank you for stopping by!\" on June 15 Read on Twitter\\n\\n\"I met with @CHIRLA members and DACA holders to discuss their concerns for access to higher education, and the need for permanent protections, including updating the registry date.\" on June 15 Read on Twitter'"
      ]
     },
     "execution_count": 22,
     "metadata": {},
     "output_type": "execute_result"
    }
   ],
   "source": [
    "capitol.iloc[4264]['content'] "
   ]
  }
 ],
 "metadata": {
  "kernelspec": {
   "display_name": "pink-slime",
   "language": "python",
   "name": "python3"
  },
  "language_info": {
   "codemirror_mode": {
    "name": "ipython",
    "version": 3
   },
   "file_extension": ".py",
   "mimetype": "text/x-python",
   "name": "python",
   "nbconvert_exporter": "python",
   "pygments_lexer": "ipython3",
   "version": "3.10.14"
  }
 },
 "nbformat": 4,
 "nbformat_minor": 2
}
