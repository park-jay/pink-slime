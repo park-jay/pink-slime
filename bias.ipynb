{
 "cells": [
  {
   "cell_type": "code",
   "execution_count": 2,
   "metadata": {},
   "outputs": [],
   "source": [
    "import json\n",
    "import os\n",
    "import pandas as pd"
   ]
  },
  {
   "cell_type": "code",
   "execution_count": 10,
   "metadata": {},
   "outputs": [],
   "source": [
    "datasets=[]\n",
    "for file in os.listdir('Article-Bias-Prediction/data/jsons'):\n",
    "    with open('Article-Bias-Prediction/data/jsons/' + file) as f:\n",
    "        datasets.append(json.load(f))"
   ]
  },
  {
   "cell_type": "code",
   "execution_count": 19,
   "metadata": {},
   "outputs": [],
   "source": [
    "dataset=pd.DataFrame(datasets)"
   ]
  },
  {
   "cell_type": "code",
   "execution_count": 22,
   "metadata": {},
   "outputs": [
    {
     "data": {
      "text/plain": [
       "Index(['topic', 'source', 'bias', 'url', 'title', 'date', 'authors', 'content',\n",
       "       'content_original', 'source_url', 'bias_text', 'ID'],\n",
       "      dtype='object')"
      ]
     },
     "execution_count": 22,
     "metadata": {},
     "output_type": "execute_result"
    }
   ],
   "source": [
    "dataset.columns"
   ]
  },
  {
   "cell_type": "code",
   "execution_count": 31,
   "metadata": {},
   "outputs": [
    {
     "data": {
      "text/plain": [
       "array(['politics', 'china', 'terrorism', 'nsa',\n",
       "       'capital_punishment_and_death_penalty', 'elections', 'coronavirus',\n",
       "       'white_house', 'us_house', 'federal_budget', 'world', 'education',\n",
       "       'immigration', 'impeachment', 'middle_east', 'democratic_party',\n",
       "       'supreme_court', 'race_and_racism', 'republican_party',\n",
       "       'us_senate', 'violence_in_america', 'economy_and_jobs',\n",
       "       'healthcare', 'food', 'palestine', 'media_bias',\n",
       "       'justice_department', 'privacy', 'lgbt_rights', 'economic_policy',\n",
       "       'disaster', 'great_britain', 'taxes', 'general_news',\n",
       "       'veterans_affairs', 'asia', 'epa', 'welfare',\n",
       "       'gun_control_and_gun_rights', 'foreign_policy', 'us_congress',\n",
       "       'us_military', 'polarization', 'environment', 'labor', 'defense',\n",
       "       'abortion', 'opioid_crisis', 'national_security',\n",
       "       'bridging_divides', 'technology', 'state_department', 'fbi',\n",
       "       'trade', 'energy', 'europe', 'cia', 'inequality', 'free_speech',\n",
       "       'sexual_misconduct', 'campaign_finance', 'culture',\n",
       "       'transportation', 'mexico', 'banking_and_finance', 'israel',\n",
       "       'religion_and_faith', 'sports', 'us_constitution', 'isis',\n",
       "       'north_korea', 'homeland_security', 'national_defense', 'justice',\n",
       "       'campaign_rhetoric', 'russia', 'treasury',\n",
       "       'voting_rights_and_voter_fraud', 'facts_and_fact_checking',\n",
       "       'criminal_justice', 'civil_rights', 'media_industry',\n",
       "       'domestic_policy', \"women's_issues\", 'fiscal_cliff', 'holidays',\n",
       "       'arts_and_entertainment', 'marijuana_legalization', 'fake_news',\n",
       "       'tea_party', 'cybersecurity', 'nuclear_weapons',\n",
       "       'role_of_government', 'animal_welfare', 'agriculture', 'business',\n",
       "       'housing_and_homelessness', 'africa', 'ebola', 'science', 'fda',\n",
       "       'public_health', 'death_penalty', 'family_and_marriage',\n",
       "       'social_security', 'south_korea', 'dea',\n",
       "       'obesity_and_malnutrition'], dtype=object)"
      ]
     },
     "execution_count": 31,
     "metadata": {},
     "output_type": "execute_result"
    }
   ],
   "source": [
    "dataset['topic'].unique()"
   ]
  },
  {
   "cell_type": "code",
   "execution_count": 36,
   "metadata": {},
   "outputs": [
    {
     "data": {
      "text/plain": [
       "(107,)"
      ]
     },
     "execution_count": 36,
     "metadata": {},
     "output_type": "execute_result"
    }
   ],
   "source": [
    "dataset[dataset['topic']=='voting_rights_and_voter_fraud']['content_original'].shape"
   ]
  },
  {
   "cell_type": "code",
   "execution_count": 38,
   "metadata": {},
   "outputs": [
    {
     "data": {
      "text/plain": [
       "6235     A boy's desperate call from aboard a doomed So...\n",
       "13456    Moon Jae-in was elected South Korea’s Presiden...\n",
       "24472    The United States has sent two F-22 stealth fi...\n",
       "24518    National Security Adviser Gen. H.R. McMaster s...\n",
       "24798    Story highlights U.S. deploys F-22s to South K...\n",
       "25351    “The advantages of the Chinese system have onc...\n",
       "26666    Story highlights Rescuers describe finding 48 ...\n",
       "30289    Story highlights The death toll has risen to 1...\n",
       "30842    Collapse When mothers’ power targets drug-trea...\n",
       "31305    It’s the 105th anniversary of North Korea’s fo...\n",
       "36373    The United States and South Korea bolstered th...\n",
       "36610    South Korean President Moon Jae-in said Monday...\n",
       "Name: content_original, dtype: object"
      ]
     },
     "execution_count": 38,
     "metadata": {},
     "output_type": "execute_result"
    }
   ],
   "source": [
    "dataset[dataset['topic']=='south_korea']['content_original']"
   ]
  },
  {
   "cell_type": "code",
   "execution_count": 29,
   "metadata": {},
   "outputs": [
    {
     "data": {
      "text/html": [
       "<div>\n",
       "<style scoped>\n",
       "    .dataframe tbody tr th:only-of-type {\n",
       "        vertical-align: middle;\n",
       "    }\n",
       "\n",
       "    .dataframe tbody tr th {\n",
       "        vertical-align: top;\n",
       "    }\n",
       "\n",
       "    .dataframe thead th {\n",
       "        text-align: right;\n",
       "    }\n",
       "</style>\n",
       "<table border=\"1\" class=\"dataframe\">\n",
       "  <thead>\n",
       "    <tr style=\"text-align: right;\">\n",
       "      <th></th>\n",
       "      <th></th>\n",
       "      <th>source</th>\n",
       "      <th>bias</th>\n",
       "      <th>url</th>\n",
       "      <th>title</th>\n",
       "      <th>date</th>\n",
       "      <th>authors</th>\n",
       "      <th>content</th>\n",
       "      <th>content_original</th>\n",
       "      <th>source_url</th>\n",
       "      <th>ID</th>\n",
       "    </tr>\n",
       "    <tr>\n",
       "      <th>topic</th>\n",
       "      <th>bias_text</th>\n",
       "      <th></th>\n",
       "      <th></th>\n",
       "      <th></th>\n",
       "      <th></th>\n",
       "      <th></th>\n",
       "      <th></th>\n",
       "      <th></th>\n",
       "      <th></th>\n",
       "      <th></th>\n",
       "      <th></th>\n",
       "    </tr>\n",
       "  </thead>\n",
       "  <tbody>\n",
       "    <tr>\n",
       "      <th rowspan=\"3\" valign=\"top\">abortion</th>\n",
       "      <th>center</th>\n",
       "      <td>82</td>\n",
       "      <td>82</td>\n",
       "      <td>82</td>\n",
       "      <td>82</td>\n",
       "      <td>82</td>\n",
       "      <td>82</td>\n",
       "      <td>82</td>\n",
       "      <td>82</td>\n",
       "      <td>82</td>\n",
       "      <td>82</td>\n",
       "    </tr>\n",
       "    <tr>\n",
       "      <th>left</th>\n",
       "      <td>101</td>\n",
       "      <td>101</td>\n",
       "      <td>101</td>\n",
       "      <td>101</td>\n",
       "      <td>101</td>\n",
       "      <td>101</td>\n",
       "      <td>101</td>\n",
       "      <td>101</td>\n",
       "      <td>101</td>\n",
       "      <td>101</td>\n",
       "    </tr>\n",
       "    <tr>\n",
       "      <th>right</th>\n",
       "      <td>150</td>\n",
       "      <td>150</td>\n",
       "      <td>150</td>\n",
       "      <td>150</td>\n",
       "      <td>150</td>\n",
       "      <td>150</td>\n",
       "      <td>150</td>\n",
       "      <td>150</td>\n",
       "      <td>150</td>\n",
       "      <td>150</td>\n",
       "    </tr>\n",
       "    <tr>\n",
       "      <th rowspan=\"2\" valign=\"top\">africa</th>\n",
       "      <th>center</th>\n",
       "      <td>7</td>\n",
       "      <td>7</td>\n",
       "      <td>7</td>\n",
       "      <td>7</td>\n",
       "      <td>7</td>\n",
       "      <td>7</td>\n",
       "      <td>7</td>\n",
       "      <td>7</td>\n",
       "      <td>7</td>\n",
       "      <td>7</td>\n",
       "    </tr>\n",
       "    <tr>\n",
       "      <th>left</th>\n",
       "      <td>3</td>\n",
       "      <td>3</td>\n",
       "      <td>3</td>\n",
       "      <td>3</td>\n",
       "      <td>3</td>\n",
       "      <td>3</td>\n",
       "      <td>3</td>\n",
       "      <td>3</td>\n",
       "      <td>3</td>\n",
       "      <td>3</td>\n",
       "    </tr>\n",
       "    <tr>\n",
       "      <th>...</th>\n",
       "      <th>...</th>\n",
       "      <td>...</td>\n",
       "      <td>...</td>\n",
       "      <td>...</td>\n",
       "      <td>...</td>\n",
       "      <td>...</td>\n",
       "      <td>...</td>\n",
       "      <td>...</td>\n",
       "      <td>...</td>\n",
       "      <td>...</td>\n",
       "      <td>...</td>\n",
       "    </tr>\n",
       "    <tr>\n",
       "      <th rowspan=\"2\" valign=\"top\">women's_issues</th>\n",
       "      <th>left</th>\n",
       "      <td>30</td>\n",
       "      <td>30</td>\n",
       "      <td>30</td>\n",
       "      <td>30</td>\n",
       "      <td>30</td>\n",
       "      <td>30</td>\n",
       "      <td>30</td>\n",
       "      <td>30</td>\n",
       "      <td>30</td>\n",
       "      <td>30</td>\n",
       "    </tr>\n",
       "    <tr>\n",
       "      <th>right</th>\n",
       "      <td>20</td>\n",
       "      <td>20</td>\n",
       "      <td>20</td>\n",
       "      <td>20</td>\n",
       "      <td>20</td>\n",
       "      <td>20</td>\n",
       "      <td>20</td>\n",
       "      <td>20</td>\n",
       "      <td>20</td>\n",
       "      <td>20</td>\n",
       "    </tr>\n",
       "    <tr>\n",
       "      <th rowspan=\"3\" valign=\"top\">world</th>\n",
       "      <th>center</th>\n",
       "      <td>230</td>\n",
       "      <td>230</td>\n",
       "      <td>230</td>\n",
       "      <td>230</td>\n",
       "      <td>230</td>\n",
       "      <td>230</td>\n",
       "      <td>230</td>\n",
       "      <td>230</td>\n",
       "      <td>230</td>\n",
       "      <td>230</td>\n",
       "    </tr>\n",
       "    <tr>\n",
       "      <th>left</th>\n",
       "      <td>171</td>\n",
       "      <td>171</td>\n",
       "      <td>171</td>\n",
       "      <td>171</td>\n",
       "      <td>171</td>\n",
       "      <td>171</td>\n",
       "      <td>171</td>\n",
       "      <td>171</td>\n",
       "      <td>171</td>\n",
       "      <td>171</td>\n",
       "    </tr>\n",
       "    <tr>\n",
       "      <th>right</th>\n",
       "      <td>146</td>\n",
       "      <td>146</td>\n",
       "      <td>146</td>\n",
       "      <td>146</td>\n",
       "      <td>146</td>\n",
       "      <td>146</td>\n",
       "      <td>146</td>\n",
       "      <td>146</td>\n",
       "      <td>146</td>\n",
       "      <td>146</td>\n",
       "    </tr>\n",
       "  </tbody>\n",
       "</table>\n",
       "<p>324 rows × 10 columns</p>\n",
       "</div>"
      ],
      "text/plain": [
       "                          source  bias  url  title  date  authors  content  \\\n",
       "topic          bias_text                                                     \n",
       "abortion       center         82    82   82     82    82       82       82   \n",
       "               left          101   101  101    101   101      101      101   \n",
       "               right         150   150  150    150   150      150      150   \n",
       "africa         center          7     7    7      7     7        7        7   \n",
       "               left            3     3    3      3     3        3        3   \n",
       "...                          ...   ...  ...    ...   ...      ...      ...   \n",
       "women's_issues left           30    30   30     30    30       30       30   \n",
       "               right          20    20   20     20    20       20       20   \n",
       "world          center        230   230  230    230   230      230      230   \n",
       "               left          171   171  171    171   171      171      171   \n",
       "               right         146   146  146    146   146      146      146   \n",
       "\n",
       "                          content_original  source_url   ID  \n",
       "topic          bias_text                                     \n",
       "abortion       center                   82          82   82  \n",
       "               left                    101         101  101  \n",
       "               right                   150         150  150  \n",
       "africa         center                    7           7    7  \n",
       "               left                      3           3    3  \n",
       "...                                    ...         ...  ...  \n",
       "women's_issues left                     30          30   30  \n",
       "               right                    20          20   20  \n",
       "world          center                  230         230  230  \n",
       "               left                    171         171  171  \n",
       "               right                   146         146  146  \n",
       "\n",
       "[324 rows x 10 columns]"
      ]
     },
     "execution_count": 29,
     "metadata": {},
     "output_type": "execute_result"
    }
   ],
   "source": [
    "dataset.groupby(['topic', 'bias_text']).count()"
   ]
  }
 ],
 "metadata": {
  "kernelspec": {
   "display_name": "pink-slime",
   "language": "python",
   "name": "python3"
  },
  "language_info": {
   "codemirror_mode": {
    "name": "ipython",
    "version": 3
   },
   "file_extension": ".py",
   "mimetype": "text/x-python",
   "name": "python",
   "nbconvert_exporter": "python",
   "pygments_lexer": "ipython3",
   "version": "3.10.14"
  }
 },
 "nbformat": 4,
 "nbformat_minor": 2
}
